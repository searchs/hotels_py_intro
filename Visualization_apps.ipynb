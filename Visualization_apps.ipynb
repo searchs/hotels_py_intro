{
 "cells": [
  {
   "cell_type": "code",
   "execution_count": 1,
   "metadata": {
    "collapsed": false
   },
   "outputs": [],
   "source": [
    "# DATA ANALYSIS USING PYTHON"
   ]
  },
  {
   "cell_type": "code",
   "execution_count": 2,
   "metadata": {
    "collapsed": false
   },
   "outputs": [],
   "source": [
    "# Python Library Catalogue: http://pypy.org\n",
    "import pandas as pd\n",
    "import numpy as np\n",
    "# BOKEH library info: http://bokeh.pydata.org/en/latest/docs/user_guide.html\n",
    "import bokeh"
   ]
  },
  {
   "cell_type": "code",
   "execution_count": 16,
   "metadata": {
    "collapsed": false
   },
   "outputs": [],
   "source": [
    "from bokeh.charts import Scatter, output_file, show\n",
    "df = pd.DataFrame(columns=[\"X\", \"Y\"])\n",
    "df[\"X\"] = [1,2,3,4,5]\n",
    "df[\"Y\"] = [5,6,4,5,3]\n",
    "plot_scatter = Scatter(df,x=\"X\", y=\"Y\", title=\"Temperature Observations\", xlabel=\"Day of Observations\", ylabel=\"Temperature\")\n",
    "\n",
    "output_file(\"Scatter_chart.html\")\n",
    "\n",
    "show(plot_scatter)"
   ]
  },
  {
   "cell_type": "code",
   "execution_count": 4,
   "metadata": {
    "collapsed": false
   },
   "outputs": [
    {
     "data": {
      "text/html": [
       "<div>\n",
       "<table border=\"1\" class=\"dataframe\">\n",
       "  <thead>\n",
       "    <tr style=\"text-align: right;\">\n",
       "      <th></th>\n",
       "      <th>X</th>\n",
       "      <th>Y</th>\n",
       "    </tr>\n",
       "  </thead>\n",
       "  <tbody>\n",
       "    <tr>\n",
       "      <th>count</th>\n",
       "      <td>5.000000</td>\n",
       "      <td>5.000000</td>\n",
       "    </tr>\n",
       "    <tr>\n",
       "      <th>mean</th>\n",
       "      <td>3.000000</td>\n",
       "      <td>4.600000</td>\n",
       "    </tr>\n",
       "    <tr>\n",
       "      <th>std</th>\n",
       "      <td>1.581139</td>\n",
       "      <td>1.140175</td>\n",
       "    </tr>\n",
       "    <tr>\n",
       "      <th>min</th>\n",
       "      <td>1.000000</td>\n",
       "      <td>3.000000</td>\n",
       "    </tr>\n",
       "    <tr>\n",
       "      <th>25%</th>\n",
       "      <td>2.000000</td>\n",
       "      <td>4.000000</td>\n",
       "    </tr>\n",
       "    <tr>\n",
       "      <th>50%</th>\n",
       "      <td>3.000000</td>\n",
       "      <td>5.000000</td>\n",
       "    </tr>\n",
       "    <tr>\n",
       "      <th>75%</th>\n",
       "      <td>4.000000</td>\n",
       "      <td>5.000000</td>\n",
       "    </tr>\n",
       "    <tr>\n",
       "      <th>max</th>\n",
       "      <td>5.000000</td>\n",
       "      <td>6.000000</td>\n",
       "    </tr>\n",
       "  </tbody>\n",
       "</table>\n",
       "</div>"
      ],
      "text/plain": [
       "              X         Y\n",
       "count  5.000000  5.000000\n",
       "mean   3.000000  4.600000\n",
       "std    1.581139  1.140175\n",
       "min    1.000000  3.000000\n",
       "25%    2.000000  4.000000\n",
       "50%    3.000000  5.000000\n",
       "75%    4.000000  5.000000\n",
       "max    5.000000  6.000000"
      ]
     },
     "execution_count": 4,
     "metadata": {},
     "output_type": "execute_result"
    }
   ],
   "source": [
    "# Get Statistical summary of your data\n",
    "df.describe()"
   ]
  },
  {
   "cell_type": "code",
   "execution_count": 5,
   "metadata": {
    "collapsed": false
   },
   "outputs": [],
   "source": [
    "from bokeh.plotting import figure, output_file, show\n",
    "p = figure(plot_width=500, plot_height=500, title=\"Playground\")\n",
    "p.circle([1,2,3,4,5],[5,8,3,9,7], size=[i*2 for i in [4,6,12,8,10]], color=\"purple\", alpha=0.5)\n",
    "\n",
    "output_file(\"Plotting_chart.html\")\n",
    "show(p)"
   ]
  },
  {
   "cell_type": "code",
   "execution_count": 6,
   "metadata": {
    "collapsed": false
   },
   "outputs": [],
   "source": [
    "from bokeh.plotting import figure, output_file, show\n",
    "f = figure(plot_width=500, plot_height=500)\n",
    "\n",
    "# Add features to chart on object\n",
    "f.title.text = \"Code Playground\"\n",
    "f.title.text_color=\"blue\"\n",
    "f.yaxis.minor_tick_line_color =\"red\"\n",
    "f.xaxis.axis_label=\"XBox\"\n",
    "f.yaxis.axis_label=\"YBox\"\n",
    "f.circle([1,2,3,4,5],[5,8,3,9,7], size=[i*2 for i in [4,6,12,8,10]], color=\"orange\", alpha=0.5)\n",
    "\n",
    "output_file(\"Features_Designed.html\")\n",
    "show(f)"
   ]
  },
  {
   "cell_type": "code",
   "execution_count": 7,
   "metadata": {
    "collapsed": false
   },
   "outputs": [
    {
     "data": {
      "text/plain": [
       "(33102, 6)"
      ]
     },
     "execution_count": 7,
     "metadata": {},
     "output_type": "execute_result"
    }
   ],
   "source": [
    "# data=pd.read_excel(\"data/tempress.xlsx\",sheetname=0)\n",
    "df_data = pd.read_csv('data/tempress.csv')\n",
    "df_data.shape"
   ]
  },
  {
   "cell_type": "code",
   "execution_count": 8,
   "metadata": {
    "collapsed": false
   },
   "outputs": [
    {
     "data": {
      "text/html": [
       "<div>\n",
       "<table border=\"1\" class=\"dataframe\">\n",
       "  <thead>\n",
       "    <tr style=\"text-align: right;\">\n",
       "      <th></th>\n",
       "      <th>Year</th>\n",
       "      <th>Month</th>\n",
       "      <th>Day</th>\n",
       "      <th>Hour</th>\n",
       "      <th>Temperature</th>\n",
       "      <th>Pressure</th>\n",
       "    </tr>\n",
       "  </thead>\n",
       "  <tbody>\n",
       "    <tr>\n",
       "      <th>0</th>\n",
       "      <td>2010</td>\n",
       "      <td>10</td>\n",
       "      <td>6</td>\n",
       "      <td>3</td>\n",
       "      <td>-30</td>\n",
       "      <td>9984</td>\n",
       "    </tr>\n",
       "    <tr>\n",
       "      <th>1</th>\n",
       "      <td>2010</td>\n",
       "      <td>10</td>\n",
       "      <td>6</td>\n",
       "      <td>9</td>\n",
       "      <td>-28</td>\n",
       "      <td>9992</td>\n",
       "    </tr>\n",
       "    <tr>\n",
       "      <th>2</th>\n",
       "      <td>2010</td>\n",
       "      <td>10</td>\n",
       "      <td>6</td>\n",
       "      <td>10</td>\n",
       "      <td>-24</td>\n",
       "      <td>9987</td>\n",
       "    </tr>\n",
       "    <tr>\n",
       "      <th>3</th>\n",
       "      <td>2010</td>\n",
       "      <td>10</td>\n",
       "      <td>6</td>\n",
       "      <td>11</td>\n",
       "      <td>-19</td>\n",
       "      <td>9987</td>\n",
       "    </tr>\n",
       "    <tr>\n",
       "      <th>4</th>\n",
       "      <td>2010</td>\n",
       "      <td>10</td>\n",
       "      <td>6</td>\n",
       "      <td>12</td>\n",
       "      <td>-19</td>\n",
       "      <td>9985</td>\n",
       "    </tr>\n",
       "    <tr>\n",
       "      <th>5</th>\n",
       "      <td>2010</td>\n",
       "      <td>10</td>\n",
       "      <td>6</td>\n",
       "      <td>13</td>\n",
       "      <td>-20</td>\n",
       "      <td>9982</td>\n",
       "    </tr>\n",
       "    <tr>\n",
       "      <th>6</th>\n",
       "      <td>2010</td>\n",
       "      <td>10</td>\n",
       "      <td>6</td>\n",
       "      <td>14</td>\n",
       "      <td>-15</td>\n",
       "      <td>9975</td>\n",
       "    </tr>\n",
       "  </tbody>\n",
       "</table>\n",
       "</div>"
      ],
      "text/plain": [
       "   Year  Month  Day  Hour  Temperature  Pressure\n",
       "0  2010     10    6     3          -30      9984\n",
       "1  2010     10    6     9          -28      9992\n",
       "2  2010     10    6    10          -24      9987\n",
       "3  2010     10    6    11          -19      9987\n",
       "4  2010     10    6    12          -19      9985\n",
       "5  2010     10    6    13          -20      9982\n",
       "6  2010     10    6    14          -15      9975"
      ]
     },
     "execution_count": 8,
     "metadata": {},
     "output_type": "execute_result"
    }
   ],
   "source": [
    "# Get a glimpse of your data- first 7 rows\n",
    "df_data.head(7)"
   ]
  },
  {
   "cell_type": "code",
   "execution_count": 17,
   "metadata": {
    "collapsed": false
   },
   "outputs": [],
   "source": [
    "from bokeh.plotting import figure, output_file, show\n",
    "from bokeh.models import HoverTool, BoxSelectTool\n",
    "plot_temp_press = figure(plot_width=600, plot_height=500,tools='pan,resize',logo=None, responsive=True)\n",
    "plot_temp_press.title.text = \"Temperature and Pressure\""
   ]
  },
  {
   "cell_type": "code",
   "execution_count": 20,
   "metadata": {
    "collapsed": false
   },
   "outputs": [],
   "source": [
    "plot_temp_press.xaxis.axis_label= \"Temperature(C)\"\n",
    "plot_temp_press.yaxis.axis_label = \"Pressure(hPa)\"\n",
    "hover = HoverTool(tooltips=[(\"Temp/Pressure\", \"($x,$y)\")])\n",
    "plot_temp_press.add_tools(hover)\n",
    "\n",
    "plot_temp_press.circle(df_data[\"Temperature\"],df_data[\"Pressure\"], size=2.5,color=\"brown\")\n",
    "\n",
    "output_file(\"weather.html\")\n",
    "show(plot_temp_press)"
   ]
  },
  {
   "cell_type": "code",
   "execution_count": 21,
   "metadata": {
    "collapsed": false
   },
   "outputs": [],
   "source": [
    "# Time Series\n",
    "import pandas as pd\n",
    "df_stocks = pd.read_csv(\"http://ichart.yahoo.com/table.csv?s=AAPL&a=0&b=1&c=1996&d=0&e=1&f=2016\", parse_dates=[\"Date\"] )\n",
    "# stock_data = pd.read_csv('data/stocks.csv') "
   ]
  },
  {
   "cell_type": "code",
   "execution_count": 22,
   "metadata": {
    "collapsed": false
   },
   "outputs": [
    {
     "data": {
      "text/html": [
       "<div>\n",
       "<table border=\"1\" class=\"dataframe\">\n",
       "  <thead>\n",
       "    <tr style=\"text-align: right;\">\n",
       "      <th></th>\n",
       "      <th>Date</th>\n",
       "      <th>Open</th>\n",
       "      <th>High</th>\n",
       "      <th>Low</th>\n",
       "      <th>Close</th>\n",
       "      <th>Volume</th>\n",
       "      <th>Adj Close</th>\n",
       "    </tr>\n",
       "  </thead>\n",
       "  <tbody>\n",
       "    <tr>\n",
       "      <th>0</th>\n",
       "      <td>2015-12-31</td>\n",
       "      <td>107.010002</td>\n",
       "      <td>107.029999</td>\n",
       "      <td>104.820000</td>\n",
       "      <td>105.260002</td>\n",
       "      <td>40912300</td>\n",
       "      <td>103.497690</td>\n",
       "    </tr>\n",
       "    <tr>\n",
       "      <th>1</th>\n",
       "      <td>2015-12-30</td>\n",
       "      <td>108.580002</td>\n",
       "      <td>108.699997</td>\n",
       "      <td>107.180000</td>\n",
       "      <td>107.320000</td>\n",
       "      <td>25213800</td>\n",
       "      <td>105.523198</td>\n",
       "    </tr>\n",
       "    <tr>\n",
       "      <th>2</th>\n",
       "      <td>2015-12-29</td>\n",
       "      <td>106.959999</td>\n",
       "      <td>109.430000</td>\n",
       "      <td>106.860001</td>\n",
       "      <td>108.739998</td>\n",
       "      <td>30931200</td>\n",
       "      <td>106.919422</td>\n",
       "    </tr>\n",
       "    <tr>\n",
       "      <th>3</th>\n",
       "      <td>2015-12-28</td>\n",
       "      <td>107.589996</td>\n",
       "      <td>107.690002</td>\n",
       "      <td>106.180000</td>\n",
       "      <td>106.820000</td>\n",
       "      <td>26704200</td>\n",
       "      <td>105.031569</td>\n",
       "    </tr>\n",
       "    <tr>\n",
       "      <th>4</th>\n",
       "      <td>2015-12-24</td>\n",
       "      <td>109.000000</td>\n",
       "      <td>109.000000</td>\n",
       "      <td>107.949997</td>\n",
       "      <td>108.029999</td>\n",
       "      <td>13596700</td>\n",
       "      <td>106.221310</td>\n",
       "    </tr>\n",
       "  </tbody>\n",
       "</table>\n",
       "</div>"
      ],
      "text/plain": [
       "        Date        Open        High         Low       Close    Volume  \\\n",
       "0 2015-12-31  107.010002  107.029999  104.820000  105.260002  40912300   \n",
       "1 2015-12-30  108.580002  108.699997  107.180000  107.320000  25213800   \n",
       "2 2015-12-29  106.959999  109.430000  106.860001  108.739998  30931200   \n",
       "3 2015-12-28  107.589996  107.690002  106.180000  106.820000  26704200   \n",
       "4 2015-12-24  109.000000  109.000000  107.949997  108.029999  13596700   \n",
       "\n",
       "    Adj Close  \n",
       "0  103.497690  \n",
       "1  105.523198  \n",
       "2  106.919422  \n",
       "3  105.031569  \n",
       "4  106.221310  "
      ]
     },
     "execution_count": 22,
     "metadata": {},
     "output_type": "execute_result"
    }
   ],
   "source": [
    "df_stocks.head()"
   ]
  },
  {
   "cell_type": "code",
   "execution_count": 23,
   "metadata": {
    "collapsed": false
   },
   "outputs": [],
   "source": [
    "from bokeh.plotting import figure, output_file, show\n",
    "from bokeh.models import HoverTool\n",
    "\n",
    "stock_plot = figure(plot_width=500, plot_height=250,x_axis_type=\"datetime\",  responsive=True)\n",
    "hover = HoverTool(tooltips=[(\"$\", \"$y\")])\n",
    "stock_plot.add_tools(hover)\n",
    "stock_plot.xaxis.axis_label = \"YEARS\"\n",
    "stock_plot.yaxis.axis_label = \"PRICE($)\""
   ]
  },
  {
   "cell_type": "code",
   "execution_count": 25,
   "metadata": {
    "collapsed": false
   },
   "outputs": [],
   "source": [
    "stock_plot.line(df_stocks[\"Date\"], df_stocks[\"Close\"], color=\"#F95959\",alpha=1)\n",
    "output_file(\"timeseries.html\")\n",
    "show(stock_plot)"
   ]
  },
  {
   "cell_type": "code",
   "execution_count": null,
   "metadata": {
    "collapsed": false
   },
   "outputs": [],
   "source": []
  }
 ],
 "metadata": {
  "kernelspec": {
   "display_name": "Python 3",
   "language": "python",
   "name": "python3"
  },
  "language_info": {
   "codemirror_mode": {
    "name": "ipython",
    "version": 3
   },
   "file_extension": ".py",
   "mimetype": "text/x-python",
   "name": "python",
   "nbconvert_exporter": "python",
   "pygments_lexer": "ipython3",
   "version": "3.5.2"
  }
 },
 "nbformat": 4,
 "nbformat_minor": 0
}
